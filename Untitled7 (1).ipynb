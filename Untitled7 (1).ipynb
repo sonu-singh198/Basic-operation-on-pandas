{
 "cells": [
  {
   "cell_type": "code",
   "execution_count": 15,
   "id": "64f69d04-e0fb-4b12-89e6-e58078117d77",
   "metadata": {
    "scrolled": true
   },
   "outputs": [
    {
     "name": "stdout",
     "output_type": "stream",
     "text": [
      "                                   .. code:: ipython3\n",
      "0                                 import pandas as pd\n",
      "1       data=pd.read_csv(\"Downloads/dataset/births...\n",
      "2                                         print(data)\n",
      "3                                 .. parsed-literal::\n",
      "4                     year  month  day gender  births\n",
      "5              0      1969      1  1.0      F    4046\n",
      "6              1      1969      1  1.0      M    4440\n",
      "7              2      1969      1  2.0      F    4454\n",
      "8              3      1969      1  2.0      M    4548\n",
      "9              4      1969      1  3.0      F    4548\n",
      "10             4      1969      1  3.0      F    4548\n",
      "11             ...     ...    ...  ...    ...     ...\n",
      "12             15542  2008     10  NaN      M  183219\n",
      "13             15543  2008     11  NaN      F  158939\n",
      "14             15544  2008     11  NaN      M  165468\n",
      "15             15545  2008     12  NaN      F  173215\n",
      "16             15546  2008     12  NaN      M  181235\n",
      "17                           [15547 rows x 5 columns]\n"
     ]
    }
   ],
   "source": [
    "import pandas as pd\n",
    "\n",
    "data=pd.read_csv(\"Downloads/dataset/Untitled7.rst\")\n",
    "print(data)"
   ]
  },
  {
   "cell_type": "code",
   "execution_count": 19,
   "id": "7e1455b1-669b-4994-988a-d7b3a1d4313f",
   "metadata": {},
   "outputs": [
    {
     "name": "stdout",
     "output_type": "stream",
     "text": [
      "1\n"
     ]
    }
   ],
   "source": [
    "print(data.duplicated().sum())"
   ]
  },
  {
   "cell_type": "code",
   "execution_count": null,
   "id": "43bb8858-44cc-4c6b-97f0-02d09993f6a3",
   "metadata": {},
   "outputs": [],
   "source": [
    "print(data.drop_duplicates(\"\")) #write a unique name to delete \n"
   ]
  }
 ],
 "metadata": {
  "kernelspec": {
   "display_name": "Python 3 (ipykernel)",
   "language": "python",
   "name": "python3"
  },
  "language_info": {
   "codemirror_mode": {
    "name": "ipython",
    "version": 3
   },
   "file_extension": ".py",
   "mimetype": "text/x-python",
   "name": "python",
   "nbconvert_exporter": "python",
   "pygments_lexer": "ipython3",
   "version": "3.12.4"
  }
 },
 "nbformat": 4,
 "nbformat_minor": 5
}
