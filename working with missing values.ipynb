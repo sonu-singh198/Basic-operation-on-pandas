{
 "cells": [
  {
   "cell_type": "code",
   "execution_count": 9,
   "id": "7e805653-0ba2-4fe1-8f24-c7cff3545521",
   "metadata": {},
   "outputs": [
    {
     "name": "stdout",
     "output_type": "stream",
     "text": [
      "       year  month  day gender  births\n",
      "0      1969      1  1.0      F    4046\n",
      "1      1969      1  1.0      M    4440\n",
      "2      1969      1  2.0      F    4454\n",
      "3      1969      1  2.0      M    4548\n",
      "4      1969      1  3.0      F    4548\n",
      "...     ...    ...  ...    ...     ...\n",
      "15542  2008     10  NaN      M  183219\n",
      "15543  2008     11  NaN      F  158939\n",
      "15544  2008     11  NaN      M  165468\n",
      "15545  2008     12  NaN      F  173215\n",
      "15546  2008     12  NaN      M  181235\n",
      "\n",
      "[15547 rows x 5 columns]\n"
     ]
    }
   ],
   "source": [
    "import pandas as pd\n",
    "\n",
    "data=pd.read_csv(\"Downloads/dataset/births (1).txt\")\n",
    "print(data)"
   ]
  },
  {
   "cell_type": "code",
   "execution_count": 13,
   "id": "cbae92c6-b9c7-41ba-9700-b38c32657628",
   "metadata": {},
   "outputs": [
    {
     "name": "stdout",
     "output_type": "stream",
     "text": [
      "year        0\n",
      "month       0\n",
      "day       480\n",
      "gender      0\n",
      "births      0\n",
      "dtype: int64\n"
     ]
    }
   ],
   "source": [
    "print(data.isnull().sum())"
   ]
  },
  {
   "cell_type": "code",
   "execution_count": 15,
   "id": "6cce6360-e7eb-46e0-97ea-09d17bb1d1cc",
   "metadata": {},
   "outputs": [
    {
     "name": "stdout",
     "output_type": "stream",
     "text": [
      "       year  month   day gender  births\n",
      "0      1969      1   1.0      F    4046\n",
      "1      1969      1   1.0      M    4440\n",
      "2      1969      1   2.0      F    4454\n",
      "3      1969      1   2.0      M    4548\n",
      "4      1969      1   3.0      F    4548\n",
      "...     ...    ...   ...    ...     ...\n",
      "15062  1988     12  29.0      M    5944\n",
      "15063  1988     12  30.0      F    5742\n",
      "15064  1988     12  30.0      M    6095\n",
      "15065  1988     12  31.0      F    4435\n",
      "15066  1988     12  31.0      M    4698\n",
      "\n",
      "[15067 rows x 5 columns]\n"
     ]
    }
   ],
   "source": [
    "print(data.dropna())"
   ]
  },
  {
   "cell_type": "code",
   "execution_count": 19,
   "id": "c2ce7a73-695f-42ff-9edd-2e3e87aa7486",
   "metadata": {},
   "outputs": [
    {
     "name": "stdout",
     "output_type": "stream",
     "text": [
      "       year  month   day gender  births\n",
      "0      1969      1   1.0      F    4046\n",
      "1      1969      1   1.0      M    4440\n",
      "2      1969      1   2.0      F    4454\n",
      "3      1969      1   2.0      M    4548\n",
      "4      1969      1   3.0      F    4548\n",
      "...     ...    ...   ...    ...     ...\n",
      "15542  2008     10  sonu      M  183219\n",
      "15543  2008     11  sonu      F  158939\n",
      "15544  2008     11  sonu      M  165468\n",
      "15545  2008     12  sonu      F  173215\n",
      "15546  2008     12  sonu      M  181235\n",
      "\n",
      "[15547 rows x 5 columns]\n"
     ]
    }
   ],
   "source": [
    "print(data.fillna(\"sonu\"))"
   ]
  },
  {
   "cell_type": "code",
   "execution_count": 31,
   "id": "04b30eab-f61c-4924-bf7c-0985f95edab4",
   "metadata": {},
   "outputs": [
    {
     "name": "stdout",
     "output_type": "stream",
     "text": [
      "17.769894471361255\n"
     ]
    }
   ],
   "source": [
    "print(data['day'].mean())"
   ]
  },
  {
   "cell_type": "code",
   "execution_count": 33,
   "id": "75bdd7dd-8908-4ca3-bd74-e84340ffb807",
   "metadata": {},
   "outputs": [
    {
     "name": "stdout",
     "output_type": "stream",
     "text": [
      "       year  month  day gender  births\n",
      "0      1969      1  1.0      F    4046\n",
      "1      1969      1  1.0      M    4440\n",
      "2      1969      1  2.0      F    4454\n",
      "3      1969      1  2.0      M    4548\n",
      "4      1969      1  3.0      F    4548\n",
      "...     ...    ...  ...    ...     ...\n",
      "15542  2008     10  NaN      M  183219\n",
      "15543  2008     11  NaN      F  158939\n",
      "15544  2008     11  NaN      M  165468\n",
      "15545  2008     12  NaN      F  173215\n",
      "15546  2008     12  NaN      M  181235\n",
      "\n",
      "[15547 rows x 5 columns]\n"
     ]
    }
   ],
   "source": [
    "print(data)"
   ]
  },
  {
   "cell_type": "code",
   "execution_count": 37,
   "id": "37ee6877-5fd9-4662-899d-802eaa153bae",
   "metadata": {},
   "outputs": [
    {
     "name": "stdout",
     "output_type": "stream",
     "text": [
      "       year  month   day gender  births\n",
      "0      1969      1   1.0      F    4046\n",
      "1      1969      1   1.0      M    4440\n",
      "2      1969      1   2.0      F    4454\n",
      "3      1969      1   2.0      M    4548\n",
      "4      1969      1   3.0      F    4548\n",
      "...     ...    ...   ...    ...     ...\n",
      "15542  2008     10  31.0      M  183219\n",
      "15543  2008     11  31.0      F  158939\n",
      "15544  2008     11  31.0      M  165468\n",
      "15545  2008     12  31.0      F  173215\n",
      "15546  2008     12  31.0      M  181235\n",
      "\n",
      "[15547 rows x 5 columns]\n"
     ]
    },
    {
     "name": "stderr",
     "output_type": "stream",
     "text": [
      "C:\\Users\\sonu singh\\AppData\\Local\\Temp\\ipykernel_29572\\2373199802.py:1: FutureWarning: DataFrame.fillna with 'method' is deprecated and will raise in a future version. Use obj.ffill() or obj.bfill() instead.\n",
      "  print(data.fillna(method=\"ffill\"))\n"
     ]
    }
   ],
   "source": [
    "print(data.fillna(method=\"ffill\")) #upper wale value of niche fill karna is called forward  fill"
   ]
  },
  {
   "cell_type": "code",
   "execution_count": null,
   "id": "ff532779-dccb-455d-a3b2-7d74cbbbf450",
   "metadata": {},
   "outputs": [],
   "source": []
  }
 ],
 "metadata": {
  "kernelspec": {
   "display_name": "Python 3 (ipykernel)",
   "language": "python",
   "name": "python3"
  },
  "language_info": {
   "codemirror_mode": {
    "name": "ipython",
    "version": 3
   },
   "file_extension": ".py",
   "mimetype": "text/x-python",
   "name": "python",
   "nbconvert_exporter": "python",
   "pygments_lexer": "ipython3",
   "version": "3.12.4"
  }
 },
 "nbformat": 4,
 "nbformat_minor": 5
}
